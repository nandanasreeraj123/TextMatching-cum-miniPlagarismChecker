{
  "nbformat": 4,
  "nbformat_minor": 0,
  "metadata": {
    "colab": {
      "name": "Untitled",
      "provenance": []
    },
    "kernelspec": {
      "name": "python3",
      "display_name": "Python 3"
    }
  },
  "cells": [
    {
      "cell_type": "code",
      "metadata": {
        "id": "l98PiYMP19fg",
        "outputId": "9b6599c9-361c-48ed-b57a-6572ffec8183",
        "colab": {
          "base_uri": "https://localhost:8080/",
          "height": 1000
        }
      },
      "source": [
        "\n",
        "import numpy as np\n",
        "import re\n",
        "from numpy import asarray\n",
        "\n",
        "\n",
        "\n",
        "import tensorflow_hub as hub\n",
        "\n",
        "\n",
        "embed = hub.load('https://tfhub.dev/google/universal-sentence-encoder/4')\n",
        "def get_features(x):\n",
        "    embeddings = embed(x)\n",
        "    return asarray(embeddings)\n",
        "\n",
        "\n",
        "\n",
        "def cosines(v1, v2):\n",
        "    mag1 = np.linalg.norm(v1)\n",
        "    mag2 = np.linalg.norm(v2)\n",
        "    if (not mag1) or (not mag2):\n",
        "        return 0\n",
        "    return np.dot(v1, v2) / (mag1 * mag2)\n",
        "\n",
        "\n",
        "def test_similarity(text1, text2):\n",
        "    vec1 = get_features(text1)[0]\n",
        "    vec2 = get_features(text2)[0]\n",
        "    return cosines(vec1, vec2)\n",
        "\n",
        "import pandas as pd\n",
        "data =pd.read_csv(\"train.csv\" ,usecols=[\"description_x\" ,\"description_y\"])\n",
        "k= []\n",
        "\n",
        "for x in range(len(data[\"description_x\"])):\n",
        "  k.append(test_similarity([data[\"description_x\"][x]],[data[\"description_y\"][x]]))\n",
        "\n",
        "\n",
        "import pandas as pd\n",
        "from numpy import asarray\n",
        "from sklearn.model_selection import train_test_split\n",
        "from tensorflow.keras.models import Sequential\n",
        "from tensorflow.keras.layers import Dense, Dropout\n",
        "import tensorflow as tf\n",
        "\n",
        "def get_keras_model():\n",
        "    \"\"\"Define the model.\"\"\"\n",
        "    model = Sequential()\n",
        "    model.add(Dense(128, input_shape=[x_train.shape[1]], activation='relu'))\n",
        "    model.add(Dropout(0.1))\n",
        "\n",
        "    model.add(Dense(2, activation='sigmoid'))\n",
        "\n",
        "    model.compile(loss = 'sparse_categorical_crossentropy', optimizer = 'adam', metrics = ['accuracy'])\n",
        "    model.summary()\n",
        "    return model\n",
        "\n",
        "categories=pd.read_csv(\"train.csv\" ,usecols=[\"same_security\"])\n",
        "k=pd.DataFrame(k,columns=[\"k\"])\n",
        "\n",
        "x_train, x_test, y_train ,y_test =train_test_split(k, categories, shuffle=True)\n",
        "\n",
        "y_train = asarray(y_train, dtype=\"float32\")\n",
        "y_test = asarray(y_test, dtype=\"float32\")\n",
        "model = get_keras_model()\n",
        "\n",
        "model.fit(x_train, y_train, epochs=50, validation_split=0.2)\n"
      ],
      "execution_count": 3,
      "outputs": [
        {
          "output_type": "stream",
          "text": [
            "Model: \"sequential_1\"\n",
            "_________________________________________________________________\n",
            "Layer (type)                 Output Shape              Param #   \n",
            "=================================================================\n",
            "dense_2 (Dense)              (None, 128)               256       \n",
            "_________________________________________________________________\n",
            "dropout_1 (Dropout)          (None, 128)               0         \n",
            "_________________________________________________________________\n",
            "dense_3 (Dense)              (None, 2)                 258       \n",
            "=================================================================\n",
            "Total params: 514\n",
            "Trainable params: 514\n",
            "Non-trainable params: 0\n",
            "_________________________________________________________________\n",
            "Epoch 1/50\n",
            "41/41 [==============================] - 0s 4ms/step - loss: 0.6434 - accuracy: 0.7212 - val_loss: 0.5753 - val_accuracy: 0.7795\n",
            "Epoch 2/50\n",
            "41/41 [==============================] - 0s 2ms/step - loss: 0.5683 - accuracy: 0.7414 - val_loss: 0.5121 - val_accuracy: 0.7795\n",
            "Epoch 3/50\n",
            "41/41 [==============================] - 0s 2ms/step - loss: 0.5472 - accuracy: 0.7414 - val_loss: 0.5010 - val_accuracy: 0.7795\n",
            "Epoch 4/50\n",
            "41/41 [==============================] - 0s 2ms/step - loss: 0.5434 - accuracy: 0.7414 - val_loss: 0.4976 - val_accuracy: 0.7795\n",
            "Epoch 5/50\n",
            "41/41 [==============================] - 0s 2ms/step - loss: 0.5410 - accuracy: 0.7414 - val_loss: 0.4947 - val_accuracy: 0.7795\n",
            "Epoch 6/50\n",
            "41/41 [==============================] - 0s 1ms/step - loss: 0.5394 - accuracy: 0.7414 - val_loss: 0.4931 - val_accuracy: 0.7795\n",
            "Epoch 7/50\n",
            "41/41 [==============================] - 0s 2ms/step - loss: 0.5372 - accuracy: 0.7414 - val_loss: 0.4916 - val_accuracy: 0.7795\n",
            "Epoch 8/50\n",
            "41/41 [==============================] - 0s 2ms/step - loss: 0.5371 - accuracy: 0.7414 - val_loss: 0.4906 - val_accuracy: 0.7795\n",
            "Epoch 9/50\n",
            "41/41 [==============================] - 0s 2ms/step - loss: 0.5347 - accuracy: 0.7414 - val_loss: 0.4883 - val_accuracy: 0.7795\n",
            "Epoch 10/50\n",
            "41/41 [==============================] - 0s 2ms/step - loss: 0.5322 - accuracy: 0.7414 - val_loss: 0.4858 - val_accuracy: 0.7795\n",
            "Epoch 11/50\n",
            "41/41 [==============================] - 0s 2ms/step - loss: 0.5312 - accuracy: 0.7414 - val_loss: 0.4842 - val_accuracy: 0.7795\n",
            "Epoch 12/50\n",
            "41/41 [==============================] - 0s 2ms/step - loss: 0.5290 - accuracy: 0.7414 - val_loss: 0.4818 - val_accuracy: 0.7795\n",
            "Epoch 13/50\n",
            "41/41 [==============================] - 0s 2ms/step - loss: 0.5276 - accuracy: 0.7414 - val_loss: 0.4808 - val_accuracy: 0.7795\n",
            "Epoch 14/50\n",
            "41/41 [==============================] - 0s 2ms/step - loss: 0.5246 - accuracy: 0.7414 - val_loss: 0.4794 - val_accuracy: 0.7795\n",
            "Epoch 15/50\n",
            "41/41 [==============================] - 0s 2ms/step - loss: 0.5229 - accuracy: 0.7414 - val_loss: 0.4768 - val_accuracy: 0.7795\n",
            "Epoch 16/50\n",
            "41/41 [==============================] - 0s 2ms/step - loss: 0.5218 - accuracy: 0.7414 - val_loss: 0.4761 - val_accuracy: 0.7795\n",
            "Epoch 17/50\n",
            "41/41 [==============================] - 0s 2ms/step - loss: 0.5222 - accuracy: 0.7414 - val_loss: 0.4744 - val_accuracy: 0.7795\n",
            "Epoch 18/50\n",
            "41/41 [==============================] - 0s 1ms/step - loss: 0.5208 - accuracy: 0.7375 - val_loss: 0.4739 - val_accuracy: 0.7795\n",
            "Epoch 19/50\n",
            "41/41 [==============================] - 0s 2ms/step - loss: 0.5190 - accuracy: 0.7360 - val_loss: 0.4715 - val_accuracy: 0.7795\n",
            "Epoch 20/50\n",
            "41/41 [==============================] - 0s 2ms/step - loss: 0.5178 - accuracy: 0.7375 - val_loss: 0.4708 - val_accuracy: 0.7795\n",
            "Epoch 21/50\n",
            "41/41 [==============================] - 0s 2ms/step - loss: 0.5186 - accuracy: 0.7336 - val_loss: 0.4705 - val_accuracy: 0.7764\n",
            "Epoch 22/50\n",
            "41/41 [==============================] - 0s 2ms/step - loss: 0.5170 - accuracy: 0.7336 - val_loss: 0.4689 - val_accuracy: 0.7733\n",
            "Epoch 23/50\n",
            "41/41 [==============================] - 0s 2ms/step - loss: 0.5156 - accuracy: 0.7375 - val_loss: 0.4691 - val_accuracy: 0.7764\n",
            "Epoch 24/50\n",
            "41/41 [==============================] - 0s 2ms/step - loss: 0.5166 - accuracy: 0.7391 - val_loss: 0.4682 - val_accuracy: 0.7702\n",
            "Epoch 25/50\n",
            "41/41 [==============================] - 0s 2ms/step - loss: 0.5137 - accuracy: 0.7438 - val_loss: 0.4668 - val_accuracy: 0.7826\n",
            "Epoch 26/50\n",
            "41/41 [==============================] - 0s 2ms/step - loss: 0.5128 - accuracy: 0.7500 - val_loss: 0.4661 - val_accuracy: 0.7857\n",
            "Epoch 27/50\n",
            "41/41 [==============================] - 0s 3ms/step - loss: 0.5127 - accuracy: 0.7484 - val_loss: 0.4671 - val_accuracy: 0.7764\n",
            "Epoch 28/50\n",
            "41/41 [==============================] - 0s 2ms/step - loss: 0.5121 - accuracy: 0.7500 - val_loss: 0.4658 - val_accuracy: 0.7764\n",
            "Epoch 29/50\n",
            "41/41 [==============================] - 0s 2ms/step - loss: 0.5133 - accuracy: 0.7492 - val_loss: 0.4661 - val_accuracy: 0.7795\n",
            "Epoch 30/50\n",
            "41/41 [==============================] - 0s 2ms/step - loss: 0.5128 - accuracy: 0.7500 - val_loss: 0.4651 - val_accuracy: 0.7764\n",
            "Epoch 31/50\n",
            "41/41 [==============================] - 0s 2ms/step - loss: 0.5126 - accuracy: 0.7516 - val_loss: 0.4650 - val_accuracy: 0.7764\n",
            "Epoch 32/50\n",
            "41/41 [==============================] - 0s 2ms/step - loss: 0.5095 - accuracy: 0.7484 - val_loss: 0.4658 - val_accuracy: 0.7795\n",
            "Epoch 33/50\n",
            "41/41 [==============================] - 0s 2ms/step - loss: 0.5111 - accuracy: 0.7500 - val_loss: 0.4644 - val_accuracy: 0.7795\n",
            "Epoch 34/50\n",
            "41/41 [==============================] - 0s 2ms/step - loss: 0.5109 - accuracy: 0.7500 - val_loss: 0.4651 - val_accuracy: 0.7795\n",
            "Epoch 35/50\n",
            "41/41 [==============================] - 0s 2ms/step - loss: 0.5099 - accuracy: 0.7477 - val_loss: 0.4646 - val_accuracy: 0.7795\n",
            "Epoch 36/50\n",
            "41/41 [==============================] - 0s 2ms/step - loss: 0.5110 - accuracy: 0.7492 - val_loss: 0.4642 - val_accuracy: 0.7795\n",
            "Epoch 37/50\n",
            "41/41 [==============================] - 0s 2ms/step - loss: 0.5109 - accuracy: 0.7492 - val_loss: 0.4645 - val_accuracy: 0.7795\n",
            "Epoch 38/50\n",
            "41/41 [==============================] - 0s 2ms/step - loss: 0.5101 - accuracy: 0.7492 - val_loss: 0.4636 - val_accuracy: 0.7795\n",
            "Epoch 39/50\n",
            "41/41 [==============================] - 0s 2ms/step - loss: 0.5087 - accuracy: 0.7492 - val_loss: 0.4642 - val_accuracy: 0.7795\n",
            "Epoch 40/50\n",
            "41/41 [==============================] - 0s 2ms/step - loss: 0.5095 - accuracy: 0.7500 - val_loss: 0.4634 - val_accuracy: 0.7795\n",
            "Epoch 41/50\n",
            "41/41 [==============================] - 0s 2ms/step - loss: 0.5096 - accuracy: 0.7500 - val_loss: 0.4643 - val_accuracy: 0.7764\n",
            "Epoch 42/50\n",
            "41/41 [==============================] - 0s 2ms/step - loss: 0.5099 - accuracy: 0.7492 - val_loss: 0.4630 - val_accuracy: 0.7795\n",
            "Epoch 43/50\n",
            "41/41 [==============================] - 0s 2ms/step - loss: 0.5095 - accuracy: 0.7477 - val_loss: 0.4641 - val_accuracy: 0.7764\n",
            "Epoch 44/50\n",
            "41/41 [==============================] - 0s 2ms/step - loss: 0.5089 - accuracy: 0.7484 - val_loss: 0.4630 - val_accuracy: 0.7795\n",
            "Epoch 45/50\n",
            "41/41 [==============================] - 0s 2ms/step - loss: 0.5083 - accuracy: 0.7500 - val_loss: 0.4632 - val_accuracy: 0.7795\n",
            "Epoch 46/50\n",
            "41/41 [==============================] - 0s 2ms/step - loss: 0.5097 - accuracy: 0.7469 - val_loss: 0.4629 - val_accuracy: 0.7764\n",
            "Epoch 47/50\n",
            "41/41 [==============================] - 0s 2ms/step - loss: 0.5122 - accuracy: 0.7500 - val_loss: 0.4637 - val_accuracy: 0.7795\n",
            "Epoch 48/50\n",
            "41/41 [==============================] - 0s 2ms/step - loss: 0.5100 - accuracy: 0.7500 - val_loss: 0.4630 - val_accuracy: 0.7764\n",
            "Epoch 49/50\n",
            "41/41 [==============================] - 0s 2ms/step - loss: 0.5105 - accuracy: 0.7523 - val_loss: 0.4627 - val_accuracy: 0.7764\n",
            "Epoch 50/50\n",
            "41/41 [==============================] - 0s 2ms/step - loss: 0.5104 - accuracy: 0.7469 - val_loss: 0.4629 - val_accuracy: 0.7764\n"
          ],
          "name": "stdout"
        },
        {
          "output_type": "execute_result",
          "data": {
            "text/plain": [
              "<tensorflow.python.keras.callbacks.History at 0x7f564fc70ef0>"
            ]
          },
          "metadata": {
            "tags": []
          },
          "execution_count": 3
        }
      ]
    },
    {
      "cell_type": "code",
      "metadata": {
        "id": "0Ymwnt92JUWe"
      },
      "source": [
        "!pip install textract"
      ],
      "execution_count": null,
      "outputs": []
    },
    {
      "cell_type": "code",
      "metadata": {
        "id": "3FMwCG5p2uc_"
      },
      "source": [
        "import textract\n",
        "def __text_process(text_dir):\n",
        "        ext = str(text_dir).split(\".\")[-1]\n",
        "\n",
        "        if ext=='txt':\n",
        "            with open(text_dir,mode='r') as f:\n",
        "                text = f.read()\n",
        "        elif ext=='docx':\n",
        "            text = textract.process(text_dir).decode('utf-8')\n",
        "        elif ext=='pdf':\n",
        "            text = textract.process(text_dir).decode('ascii')\n",
        "        elif ext=='png':\n",
        "            text =pytesseract.image_to_string(Image.open(text_dir))\n",
        "        else:\n",
        "            raise Exception(\"Unsupported filetype\")\n",
        "        return text"
      ],
      "execution_count": 5,
      "outputs": []
    },
    {
      "cell_type": "code",
      "metadata": {
        "id": "skJbuEdw2_Pq",
        "outputId": "3114cade-9b05-40ed-822c-c766c0175bad",
        "colab": {
          "base_uri": "https://localhost:8080/",
          "height": 67
        }
      },
      "source": [
        "a=input('file/text 1: ')\n",
        "b=input('file/text 2: ')\n",
        "import os\n",
        "if os.path.isfile(a):\n",
        "    a=__text_process(a)\n",
        "if os.path.isfile(b):\n",
        "    b=__text_process(b)\n",
        "sim=test_similarity([a], [b])\n",
        "a = model.predict([float(sim)])\n",
        "if a[0][1] > 0.46:\n",
        "        output='same'\n",
        "else:\n",
        "        output='diff'\n",
        "\n",
        "\n",
        "print(output)"
      ],
      "execution_count": 35,
      "outputs": [
        {
          "output_type": "stream",
          "text": [
            "file/text 1: /content/img1.png\n",
            "file/text 2: /content/img1.png\n",
            "same\n"
          ],
          "name": "stdout"
        }
      ]
    },
    {
      "cell_type": "code",
      "metadata": {
        "id": "bY8s_rvE7AEC"
      },
      "source": [
        "!pip install google"
      ],
      "execution_count": null,
      "outputs": []
    },
    {
      "cell_type": "code",
      "metadata": {
        "id": "A8-qBDEr66wt",
        "outputId": "ea063f6e-4b7a-4474-fe6c-2016025ba061",
        "colab": {
          "base_uri": "https://localhost:8080/",
          "height": 222
        }
      },
      "source": [
        "try: \n",
        "    from googlesearch import search \n",
        "except ImportError:  \n",
        "    print(\"No module named 'google' found\") \n",
        "  \n",
        "# to search \n",
        "query = input('document you wrote about')\n",
        "l=[]\n",
        "for j in search(query, tld=\"co.in\", num=10, stop=10, pause=2): \n",
        "    print(j) \n",
        "    l.append(j)"
      ],
      "execution_count": 36,
      "outputs": [
        {
          "output_type": "stream",
          "text": [
            "document you wrote aboutclimate change\n",
            "https://climate.nasa.gov/\n",
            "https://climate.nasa.gov/evidence/\n",
            "https://climate.nasa.gov/effects/\n",
            "https://climate.nasa.gov/evidence\n",
            "https://climate.nasa.gov/images-of-change\n",
            "https://www.ipcc.ch/\n",
            "https://www.newyorker.com/culture/culture-desk/how-should-the-media-talk-about-climate-change\n",
            "https://phys.org/news/2020-10-climate-drove-early-human-species.html\n",
            "https://www.washingtonpost.com/science/humans-altered-fall-foliage/2020/10/16/0abc786c-03f5-11eb-897d-3a6201d6643f_story.html\n",
            "https://en.wikipedia.org/wiki/Climate_change\n"
          ],
          "name": "stdout"
        }
      ]
    },
    {
      "cell_type": "code",
      "metadata": {
        "id": "cS5hWqkke6TA",
        "outputId": "d98c9bf2-fcc1-45ee-fbe9-cdca8ef3d965",
        "colab": {
          "base_uri": "https://localhost:8080/",
          "height": 52
        }
      },
      "source": [
        "s=input('select the website: (enter 1-10)')\n",
        "s=int(s)-1\n",
        "l[s]\n"
      ],
      "execution_count": 37,
      "outputs": [
        {
          "output_type": "stream",
          "text": [
            "select the website: (enter 1-10)1\n"
          ],
          "name": "stdout"
        },
        {
          "output_type": "execute_result",
          "data": {
            "application/vnd.google.colaboratory.intrinsic+json": {
              "type": "string"
            },
            "text/plain": [
              "'https://climate.nasa.gov/'"
            ]
          },
          "metadata": {
            "tags": []
          },
          "execution_count": 37
        }
      ]
    },
    {
      "cell_type": "code",
      "metadata": {
        "id": "QhkIVd2p9Vl2"
      },
      "source": [
        "import requests\n",
        "\n",
        "page = requests.get(l[s])\n",
        "from bs4 import BeautifulSoup\n",
        "soup = BeautifulSoup(page.content, 'html.parser')"
      ],
      "execution_count": 38,
      "outputs": []
    },
    {
      "cell_type": "code",
      "metadata": {
        "id": "egNM9gQ1VL5V"
      },
      "source": [
        "\n",
        "\n",
        "p = soup.find_all('p')\n",
        "paragraphs = []\n",
        "for x in p:\n",
        "    paragraphs.append(str(x))\n",
        "j=''\n",
        "for i in paragraphs:\n",
        "  j+=(i[3:-4])\n",
        "\n"
      ],
      "execution_count": 39,
      "outputs": []
    },
    {
      "cell_type": "code",
      "metadata": {
        "id": "JrLuPyrtWa0x",
        "outputId": "e25c8a28-f07b-4ad1-9069-6dccfa4e3125",
        "colab": {
          "base_uri": "https://localhost:8080/",
          "height": 50
        }
      },
      "source": [
        "a=input('input file path or text')\n",
        "\n",
        "import os\n",
        "if os.path.isfile(a):\n",
        "    a=__text_process(a)\n",
        "\n",
        "\n",
        "sim=test_similarity([a], [j])\n",
        "a = model.predict([float(sim)])\n",
        "if a[0][1] > 0.46:\n",
        "          output=a[0][1]\n",
        "else:\n",
        "          output='different'\n",
        "print(output)\n",
        "\n",
        "\n"
      ],
      "execution_count": 41,
      "outputs": [
        {
          "output_type": "stream",
          "text": [
            "input file path or text/content/t1.txt\n",
            "different\n"
          ],
          "name": "stdout"
        }
      ]
    },
    {
      "cell_type": "code",
      "metadata": {
        "id": "tu2WeqHz2Fu6",
        "outputId": "6a09c104-87f0-45ed-9baa-86f91450dca4",
        "colab": {
          "base_uri": "https://localhost:8080/",
          "height": 34
        }
      },
      "source": [
        "from zipfile import ZipFile\n",
        "file_name=\"/content/archive.zip\"\n",
        "with ZipFile(file_name,'r') as zip:\n",
        "  zip.extractall()\n",
        "  print('done')"
      ],
      "execution_count": 1,
      "outputs": [
        {
          "output_type": "stream",
          "text": [
            "done\n"
          ],
          "name": "stdout"
        }
      ]
    },
    {
      "cell_type": "code",
      "metadata": {
        "id": "OvB2LoCvgI9Q"
      },
      "source": [
        "!pip install pytesseract"
      ],
      "execution_count": null,
      "outputs": []
    },
    {
      "cell_type": "code",
      "metadata": {
        "id": "sreKJWvPgM1p"
      },
      "source": [
        "!pip install Image"
      ],
      "execution_count": null,
      "outputs": []
    },
    {
      "cell_type": "code",
      "metadata": {
        "id": "u_pCEMpIgXvz"
      },
      "source": [
        "!pip install tesseract"
      ],
      "execution_count": null,
      "outputs": []
    },
    {
      "cell_type": "code",
      "metadata": {
        "id": "RB5URQ4DgklI"
      },
      "source": [
        "!sudo apt install tesseract-ocr"
      ],
      "execution_count": null,
      "outputs": []
    },
    {
      "cell_type": "code",
      "metadata": {
        "id": "YzzWFMdsgsv6"
      },
      "source": [
        "import pytesseract\n",
        "import shutil\n",
        "import os\n",
        "import random\n",
        "try:\n",
        " from PIL import Image\n",
        "except ImportError:\n",
        " import Image"
      ],
      "execution_count": 17,
      "outputs": []
    },
    {
      "cell_type": "code",
      "metadata": {
        "id": "jyldK2rWgzEJ",
        "outputId": "63b3aedf-2893-437e-8c60-9e1a5749d4c9",
        "colab": {
          "base_uri": "https://localhost:8080/",
          "height": 353
        }
      },
      "source": [
        "extractedInformation = pytesseract.image_to_string(Image.open('img1.png'))\n",
        "print(extractedInformation)"
      ],
      "execution_count": 47,
      "outputs": [
        {
          "output_type": "stream",
          "text": [
            " \n",
            "\n",
            " \n",
            "\n",
            "Tomorrow, and\n",
            "tomorrow, and\n",
            "tomorrow; creeps\n",
            "in this petty pace\n",
            "from day to day,\n",
            "until the last syll-\n",
            "able of recorded\n",
            "time. And all our\n",
            "yesterdays have\n",
            "lighted fools the\n",
            "way to dusty\n",
            "\n",
            " \n",
            "\n",
            " \n",
            "\f\n"
          ],
          "name": "stdout"
        }
      ]
    },
    {
      "cell_type": "code",
      "metadata": {
        "id": "lVSQi3OjhoFs",
        "outputId": "37251a67-3c26-4b5b-fd59-4fedeba4d780",
        "colab": {
          "base_uri": "https://localhost:8080/",
          "height": 302
        }
      },
      "source": [
        "extractedInformation2 = pytesseract.image_to_string(Image.open('img2.png'))\n",
        "print(extractedInformation2)"
      ],
      "execution_count": 48,
      "outputs": [
        {
          "output_type": "stream",
          "text": [
            "The domestic dog is a\n",
            "member of genus\n",
            "Canis that forms part\n",
            "of the wolf-like canids.\n",
            "\n",
            "The domestic dog is a\n",
            "member of genus Canis\n",
            "that forms part of the\n",
            "wolf-like canids.\n",
            "\n",
            "The domestic dog is a\n",
            "member of genus Canis\n",
            "\n",
            "that forms part of the\n",
            "\n",
            "wolf-like canids.\n",
            "\f\n"
          ],
          "name": "stdout"
        }
      ]
    },
    {
      "cell_type": "code",
      "metadata": {
        "id": "QjyALkX9hCK0",
        "outputId": "3d7f1f13-f695-4972-c510-71c509d35fac",
        "colab": {
          "base_uri": "https://localhost:8080/",
          "height": 34
        }
      },
      "source": [
        "sim=test_similarity([extractedInformation2], [extractedInformation2])\n",
        "a = model.predict([float(sim)])\n",
        "if a[0][1] > 0.46:\n",
        "        output='same'\n",
        "else:\n",
        "        output='diff'\n",
        "\n",
        "\n",
        "print(output)"
      ],
      "execution_count": 50,
      "outputs": [
        {
          "output_type": "stream",
          "text": [
            "same\n"
          ],
          "name": "stdout"
        }
      ]
    }
  ]
}